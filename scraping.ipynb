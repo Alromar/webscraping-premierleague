{
 "cells": [
  {
   "cell_type": "code",
   "execution_count": 47,
   "id": "da91bf0e-96ab-4ef1-a9af-1d3cf8eefbe6",
   "metadata": {},
   "outputs": [],
   "source": [
    "import requests"
   ]
  },
  {
   "cell_type": "code",
   "execution_count": 48,
   "id": "7c07925a-de59-45f9-8499-819b413de5c0",
   "metadata": {},
   "outputs": [],
   "source": [
    "standings_url= \"https://fbref.com/en/comps/9/Premier-League-Stats\""
   ]
  },
  {
   "cell_type": "code",
   "execution_count": 49,
   "id": "acad08c2-c409-4063-b5a1-5c83825d5659",
   "metadata": {},
   "outputs": [],
   "source": [
    "# download html van de pagina"
   ]
  },
  {
   "cell_type": "code",
   "execution_count": 50,
   "id": "c2a3f87d-2134-4e25-9648-0a39783a9758",
   "metadata": {},
   "outputs": [],
   "source": [
    "data = requests.get(standings_url)"
   ]
  },
  {
   "cell_type": "code",
   "execution_count": 51,
   "id": "f212e312-91a1-4ee8-845e-4525a857a75d",
   "metadata": {},
   "outputs": [],
   "source": [
    "# parse html met beatifullsoup"
   ]
  },
  {
   "cell_type": "code",
   "execution_count": 52,
   "id": "2f28c852-70ed-41c3-8e50-5385ea0a6d89",
   "metadata": {},
   "outputs": [],
   "source": [
    "# check html class in inspector"
   ]
  },
  {
   "cell_type": "code",
   "execution_count": 53,
   "id": "dd62e798-89c0-4a4c-a528-786e0ec389e8",
   "metadata": {},
   "outputs": [],
   "source": [
    "from bs4 import BeautifulSoup"
   ]
  },
  {
   "cell_type": "code",
   "execution_count": 54,
   "id": "3141ac00-bdf1-4f11-88c1-6160bb8b601e",
   "metadata": {},
   "outputs": [],
   "source": [
    "soup = BeautifulSoup(data.text)"
   ]
  },
  {
   "cell_type": "code",
   "execution_count": 55,
   "id": "8ff59917-261c-49ba-ad32-fc32883e6128",
   "metadata": {},
   "outputs": [],
   "source": [
    "standings_table = soup.select('table.stats_table')[0]"
   ]
  },
  {
   "cell_type": "code",
   "execution_count": 56,
   "id": "082330ac-5509-485e-a37a-c21c0dda141f",
   "metadata": {},
   "outputs": [],
   "source": [
    "# standings_table"
   ]
  },
  {
   "cell_type": "code",
   "execution_count": 57,
   "id": "0949ee99-4b55-4b97-a08d-db3e493cde9e",
   "metadata": {},
   "outputs": [],
   "source": [
    "links = standings_table.find_all('a')"
   ]
  },
  {
   "cell_type": "code",
   "execution_count": 58,
   "id": "244eda54-f4dd-4419-9ad3-d7dbb40eef4c",
   "metadata": {},
   "outputs": [],
   "source": [
    "# href prop van iedere link"
   ]
  },
  {
   "cell_type": "code",
   "execution_count": 59,
   "id": "cbbee7cf-9a38-4f74-8288-668626fbe72a",
   "metadata": {},
   "outputs": [],
   "source": [
    "links = [l.get(\"href\") for l in links]"
   ]
  },
  {
   "cell_type": "code",
   "execution_count": 60,
   "id": "dd1afc6d-e4ca-4c4b-81e3-40b86584b976",
   "metadata": {},
   "outputs": [],
   "source": [
    "# alle href attributen van de a-tag per club"
   ]
  },
  {
   "cell_type": "code",
   "execution_count": 61,
   "id": "8db84eaf-0f23-42d8-bf84-38038a30b350",
   "metadata": {},
   "outputs": [],
   "source": [
    "links = [l for l in links if '/squads/' in l]"
   ]
  },
  {
   "cell_type": "code",
   "execution_count": 63,
   "id": "699925c3-d38f-4557-934b-1addf70ea558",
   "metadata": {},
   "outputs": [],
   "source": [
    "# links"
   ]
  },
  {
   "cell_type": "code",
   "execution_count": 69,
   "id": "694baa0e-d61b-4bf3-a0f3-7cf4a6548a22",
   "metadata": {},
   "outputs": [],
   "source": [
    "# voeg string toe aan href-link voor absolute link ipv relative links"
   ]
  },
  {
   "cell_type": "code",
   "execution_count": 70,
   "id": "011ef364-9821-458d-a8d0-bbbe0ce9e224",
   "metadata": {},
   "outputs": [],
   "source": [
    "team_urls = [f\"https://fbref.com{l}\" for l in links]"
   ]
  },
  {
   "cell_type": "code",
   "execution_count": 67,
   "id": "f76182e1-0867-4ae0-8e38-2ab10a0d47e9",
   "metadata": {},
   "outputs": [
    {
     "data": {
      "text/plain": [
       "['https://fbref.com/en/squads/822bd0ba/Liverpool-Stats',\n",
       " 'https://fbref.com/en/squads/8602292d/Aston-Villa-Stats',\n",
       " 'https://fbref.com/en/squads/b8fd03ef/Manchester-City-Stats',\n",
       " 'https://fbref.com/en/squads/18bb7c10/Arsenal-Stats',\n",
       " 'https://fbref.com/en/squads/361ca564/Tottenham-Hotspur-Stats',\n",
       " 'https://fbref.com/en/squads/7c21e445/West-Ham-United-Stats',\n",
       " 'https://fbref.com/en/squads/d07537b9/Brighton-and-Hove-Albion-Stats',\n",
       " 'https://fbref.com/en/squads/19538871/Manchester-United-Stats',\n",
       " 'https://fbref.com/en/squads/b2b47a98/Newcastle-United-Stats',\n",
       " 'https://fbref.com/en/squads/cff3d9bb/Chelsea-Stats',\n",
       " 'https://fbref.com/en/squads/8cec06e1/Wolverhampton-Wanderers-Stats',\n",
       " 'https://fbref.com/en/squads/4ba7cbea/Bournemouth-Stats',\n",
       " 'https://fbref.com/en/squads/fd962109/Fulham-Stats',\n",
       " 'https://fbref.com/en/squads/47c64c55/Crystal-Palace-Stats',\n",
       " 'https://fbref.com/en/squads/e4a775cb/Nottingham-Forest-Stats',\n",
       " 'https://fbref.com/en/squads/cd051869/Brentford-Stats',\n",
       " 'https://fbref.com/en/squads/d3fd31cc/Everton-Stats',\n",
       " 'https://fbref.com/en/squads/e297cd13/Luton-Town-Stats',\n",
       " 'https://fbref.com/en/squads/943e8050/Burnley-Stats',\n",
       " 'https://fbref.com/en/squads/1df6b87e/Sheffield-United-Stats']"
      ]
     },
     "execution_count": 67,
     "metadata": {},
     "output_type": "execute_result"
    }
   ],
   "source": [
    "team_urls"
   ]
  },
  {
   "cell_type": "code",
   "execution_count": 71,
   "id": "615c2dbc-32bb-4552-b5dc-cf27699afd9e",
   "metadata": {},
   "outputs": [],
   "source": [
    "# stats verkrijgen via team-urls"
   ]
  },
  {
   "cell_type": "code",
   "execution_count": 72,
   "id": "eec5f79d-ca96-4e7f-9730-861f7e5b96b8",
   "metadata": {},
   "outputs": [],
   "source": [
    "team_url = team_urls[0]"
   ]
  },
  {
   "cell_type": "code",
   "execution_count": 74,
   "id": "ad0b8668-b76a-47f2-9da9-08a7721cb417",
   "metadata": {},
   "outputs": [],
   "source": [
    "data = requests.get(team_url)"
   ]
  },
  {
   "cell_type": "code",
   "execution_count": 76,
   "id": "a29ea08d-b69f-4e14-823b-efdd421466bc",
   "metadata": {},
   "outputs": [],
   "source": [
    "# data.text"
   ]
  },
  {
   "cell_type": "code",
   "execution_count": 79,
   "id": "c0455210-309a-4112-94b1-0b72be8e50d3",
   "metadata": {},
   "outputs": [],
   "source": [
    "# de scores & fixtures table el in een panda dataframe zetten\n",
    "# in pandas scannen van alle table tagsen zoeken naar \"Scores & Fixtures\""
   ]
  },
  {
   "cell_type": "code",
   "execution_count": 82,
   "id": "96cd4a9e-2f06-4efd-820e-555ba57828fd",
   "metadata": {},
   "outputs": [
    {
     "name": "stderr",
     "output_type": "stream",
     "text": [
      "C:\\Users\\Gebruiker1\\AppData\\Local\\Temp\\ipykernel_5320\\466986074.py:3: FutureWarning: Passing literal html to 'read_html' is deprecated and will be removed in a future version. To read from a literal string, wrap it in a 'StringIO' object.\n",
      "  matches = pd.read_html(data.text, match=\"Scores & Fixtures\")\n"
     ]
    }
   ],
   "source": [
    "import pandas as pd\n",
    "\n",
    "matches = pd.read_html(data.text, match=\"Scores & Fixtures\")"
   ]
  },
  {
   "cell_type": "code",
   "execution_count": 81,
   "id": "4a45da7d-f3f7-4120-8d19-70fe2465084a",
   "metadata": {},
   "outputs": [
    {
     "data": {
      "text/plain": [
       "[          Date   Time            Comp               Round  Day Venue Result  \\\n",
       " 0   2023-08-13  16:30  Premier League         Matchweek 1  Sun  Away      D   \n",
       " 1   2023-08-19  15:00  Premier League         Matchweek 2  Sat  Home      W   \n",
       " 2   2023-08-27  16:30  Premier League         Matchweek 3  Sun  Away      W   \n",
       " 3   2023-09-03  14:00  Premier League         Matchweek 4  Sun  Home      W   \n",
       " 4   2023-09-16  12:30  Premier League         Matchweek 5  Sat  Away      W   \n",
       " 5   2023-09-21  18:45       Europa Lg         Group stage  Thu  Away      W   \n",
       " 6   2023-09-24  14:00  Premier League         Matchweek 6  Sun  Home      W   \n",
       " 7   2023-09-27  19:45         EFL Cup         Third round  Wed  Home      W   \n",
       " 8   2023-09-30  17:30  Premier League         Matchweek 7  Sat  Away      L   \n",
       " 9   2023-10-05  20:00       Europa Lg         Group stage  Thu  Home      W   \n",
       " 10  2023-10-08  14:00  Premier League         Matchweek 8  Sun  Away      D   \n",
       " 11  2023-10-21  12:30  Premier League         Matchweek 9  Sat  Home      W   \n",
       " 12  2023-10-26  20:00       Europa Lg         Group stage  Thu  Home      W   \n",
       " 13  2023-10-29  14:00  Premier League        Matchweek 10  Sun  Home      W   \n",
       " 14  2023-11-01  19:45         EFL Cup        Fourth round  Wed  Away      W   \n",
       " 15  2023-11-05  16:30  Premier League        Matchweek 11  Sun  Away      D   \n",
       " 16  2023-11-09  18:45       Europa Lg         Group stage  Thu  Away      L   \n",
       " 17  2023-11-12  14:00  Premier League        Matchweek 12  Sun  Home      W   \n",
       " 18  2023-11-25  12:30  Premier League        Matchweek 13  Sat  Away      D   \n",
       " 19  2023-11-30  20:00       Europa Lg         Group stage  Thu  Home      W   \n",
       " 20  2023-12-03  14:00  Premier League        Matchweek 14  Sun  Home      W   \n",
       " 21  2023-12-06  19:30  Premier League        Matchweek 15  Wed  Away      W   \n",
       " 22  2023-12-09  12:30  Premier League        Matchweek 16  Sat  Away      W   \n",
       " 23  2023-12-14  18:45       Europa Lg         Group stage  Thu  Away      L   \n",
       " 24  2023-12-17  16:30  Premier League        Matchweek 17  Sun  Home      D   \n",
       " 25  2023-12-20  20:00         EFL Cup      Quarter-finals  Wed  Home      W   \n",
       " 26  2023-12-23  17:30  Premier League        Matchweek 18  Sat  Home      D   \n",
       " 27  2023-12-26  17:30  Premier League        Matchweek 19  Tue  Away      W   \n",
       " 28  2024-01-01  20:00  Premier League        Matchweek 20  Mon  Home      W   \n",
       " 29  2024-01-07  16:30          FA Cup  Third round proper  Sun  Away      W   \n",
       " 30  2024-01-10  20:00         EFL Cup         Semi-finals  Wed  Home      W   \n",
       " 31  2024-01-21  16:30  Premier League        Matchweek 21  Sun  Away    NaN   \n",
       " 32  2024-01-24  20:00         EFL Cup         Semi-finals  Wed  Away    NaN   \n",
       " 33  2024-01-31  20:15  Premier League        Matchweek 22  Wed  Home    NaN   \n",
       " 34  2024-02-04  16:30  Premier League        Matchweek 23  Sun  Away    NaN   \n",
       " 35  2024-02-10  15:00  Premier League        Matchweek 24  Sat  Home    NaN   \n",
       " 36  2024-02-17  12:30  Premier League        Matchweek 25  Sat  Away    NaN   \n",
       " 37  2024-02-24  15:00  Premier League        Matchweek 26  Sat  Home    NaN   \n",
       " 38  2024-03-02  15:00  Premier League        Matchweek 27  Sat  Away    NaN   \n",
       " 39  2024-03-09    NaN  Premier League        Matchweek 28  Sat  Home    NaN   \n",
       " 40  2024-03-16    NaN  Premier League        Matchweek 29  Sat  Away    NaN   \n",
       " 41  2024-03-30    NaN  Premier League        Matchweek 30  Sat  Home    NaN   \n",
       " 42  2024-04-03    NaN  Premier League        Matchweek 31  Wed  Home    NaN   \n",
       " 43  2024-04-06    NaN  Premier League        Matchweek 32  Sat  Away    NaN   \n",
       " 44  2024-04-13    NaN  Premier League        Matchweek 33  Sat  Home    NaN   \n",
       " 45  2024-04-20    NaN  Premier League        Matchweek 34  Sat  Away    NaN   \n",
       " 46  2024-04-27    NaN  Premier League        Matchweek 35  Sat  Away    NaN   \n",
       " 47  2024-05-04    NaN  Premier League        Matchweek 36  Sat  Home    NaN   \n",
       " 48  2024-05-11    NaN  Premier League        Matchweek 37  Sat  Away    NaN   \n",
       " 49  2024-05-19    NaN  Premier League        Matchweek 38  Sun  Home    NaN   \n",
       " \n",
       "      GF   GA         Opponent   xG  xGA  Poss  Attendance  \\\n",
       " 0   1.0  1.0          Chelsea  1.3  1.4  35.0     40096.0   \n",
       " 1   3.0  1.0      Bournemouth  3.0  1.3  64.0     53145.0   \n",
       " 2   2.0  1.0    Newcastle Utd  0.9  2.0  41.0     52214.0   \n",
       " 3   3.0  0.0      Aston Villa  2.5  0.7  63.0     50109.0   \n",
       " 4   3.0  1.0           Wolves  2.5  0.6  65.0     31257.0   \n",
       " 5   3.0  1.0          at LASK  2.2  0.3  66.0     18091.0   \n",
       " 6   3.0  1.0         West Ham  3.0  1.1  63.0     50136.0   \n",
       " 7   3.0  1.0   Leicester City  NaN  NaN  57.0     49732.0   \n",
       " 8   1.0  2.0        Tottenham  1.3  2.2  36.0     62001.0   \n",
       " 9   2.0  0.0      be Union SG  2.9  1.1  72.0     49513.0   \n",
       " 10  2.0  2.0         Brighton  2.3  2.3  54.0     31752.0   \n",
       " 11  2.0  0.0          Everton  2.2  0.1  77.0     50201.0   \n",
       " 12  5.0  1.0      fr Toulouse  2.9  1.1  62.0     49338.0   \n",
       " 13  3.0  0.0  Nott'ham Forest  3.2  0.4  72.0     50143.0   \n",
       " 14  2.0  1.0      Bournemouth  NaN  NaN  67.0     11116.0   \n",
       " 15  1.0  1.0       Luton Town  2.6  0.8  73.0     11049.0   \n",
       " 16  2.0  3.0      fr Toulouse  1.1  1.0  71.0     32026.0   \n",
       " 17  3.0  0.0        Brentford  1.7  1.6  59.0     50151.0   \n",
       " 18  1.0  1.0  Manchester City  0.6  1.3  41.0     53289.0   \n",
       " 19  4.0  0.0          at LASK  3.3  0.7  65.0     49666.0   \n",
       " 20  4.0  3.0           Fulham  2.1  1.2  61.0     50124.0   \n",
       " 21  2.0  0.0    Sheffield Utd  1.7  1.0  75.0     31406.0   \n",
       " 22  2.0  1.0   Crystal Palace  1.2  1.7  76.0     25103.0   \n",
       " 23  1.0  2.0      be Union SG  0.3  2.3  68.0     16959.0   \n",
       " 24  0.0  0.0   Manchester Utd  2.3  0.8  68.0     57158.0   \n",
       " 25  5.0  1.0         West Ham  NaN  NaN  67.0     57332.0   \n",
       " 26  1.0  1.0          Arsenal  1.0  0.7  52.0     57548.0   \n",
       " 27  2.0  0.0          Burnley  1.8  0.8  68.0     21624.0   \n",
       " 28  4.0  2.0    Newcastle Utd  7.0  0.6  61.0     57471.0   \n",
       " 29  2.0  0.0          Arsenal  NaN  NaN  46.0     58538.0   \n",
       " 30  2.0  1.0           Fulham  NaN  NaN  67.0         NaN   \n",
       " 31  NaN  NaN      Bournemouth  NaN  NaN   NaN         NaN   \n",
       " 32  NaN  NaN           Fulham  NaN  NaN   NaN         NaN   \n",
       " 33  NaN  NaN          Chelsea  NaN  NaN   NaN         NaN   \n",
       " 34  NaN  NaN          Arsenal  NaN  NaN   NaN         NaN   \n",
       " 35  NaN  NaN          Burnley  NaN  NaN   NaN         NaN   \n",
       " 36  NaN  NaN        Brentford  NaN  NaN   NaN         NaN   \n",
       " 37  NaN  NaN       Luton Town  NaN  NaN   NaN         NaN   \n",
       " 38  NaN  NaN  Nott'ham Forest  NaN  NaN   NaN         NaN   \n",
       " 39  NaN  NaN  Manchester City  NaN  NaN   NaN         NaN   \n",
       " 40  NaN  NaN          Everton  NaN  NaN   NaN         NaN   \n",
       " 41  NaN  NaN         Brighton  NaN  NaN   NaN         NaN   \n",
       " 42  NaN  NaN    Sheffield Utd  NaN  NaN   NaN         NaN   \n",
       " 43  NaN  NaN   Manchester Utd  NaN  NaN   NaN         NaN   \n",
       " 44  NaN  NaN   Crystal Palace  NaN  NaN   NaN         NaN   \n",
       " 45  NaN  NaN           Fulham  NaN  NaN   NaN         NaN   \n",
       " 46  NaN  NaN         West Ham  NaN  NaN   NaN         NaN   \n",
       " 47  NaN  NaN        Tottenham  NaN  NaN   NaN         NaN   \n",
       " 48  NaN  NaN      Aston Villa  NaN  NaN   NaN         NaN   \n",
       " 49  NaN  NaN           Wolves  NaN  NaN   NaN         NaN   \n",
       " \n",
       "                    Captain Formation         Referee  Match Report  \\\n",
       " 0          Virgil van Dijk     4-3-3  Anthony Taylor  Match Report   \n",
       " 1          Virgil van Dijk     4-3-3  Thomas Bramall  Match Report   \n",
       " 2          Virgil van Dijk     4-3-3     John Brooks  Match Report   \n",
       " 3   Trent Alexander-Arnold     4-3-3    Simon Hooper  Match Report   \n",
       " 4         Andrew Robertson     4-3-3  Michael Oliver  Match Report   \n",
       " 5          Virgil van Dijk     4-3-3  Marco Di Bello  Match Report   \n",
       " 6          Virgil van Dijk     4-3-3  Chris Kavanagh  Match Report   \n",
       " 7             Curtis Jones     4-3-3    Tim Robinson  Match Report   \n",
       " 8          Virgil van Dijk     4-3-3    Simon Hooper  Match Report   \n",
       " 9   Trent Alexander-Arnold     4-3-3    Morten Krogh  Match Report   \n",
       " 10         Virgil van Dijk     4-3-3  Anthony Taylor  Match Report   \n",
       " 11         Virgil van Dijk     4-3-3    Craig Pawson  Match Report   \n",
       " 12  Trent Alexander-Arnold     4-3-3  Rade Obrenović  Match Report   \n",
       " 13         Virgil van Dijk     4-3-3  Chris Kavanagh  Match Report   \n",
       " 14           Mohamed Salah     4-3-3     John Brooks  Match Report   \n",
       " 15         Virgil van Dijk     4-3-3     Andy Madley  Match Report   \n",
       " 16               Joe Gomez     4-3-3  Georgi Kabakov  Match Report   \n",
       " 17         Virgil van Dijk     4-3-3    Paul Tierney  Match Report   \n",
       " 18         Virgil van Dijk     4-3-3  Chris Kavanagh  Match Report   \n",
       " 19           Mohamed Salah     4-3-3    Urs Schnyder  Match Report   \n",
       " 20         Virgil van Dijk     4-3-3  Stuart Attwell  Match Report   \n",
       " 21         Virgil van Dijk     4-3-3    Simon Hooper  Match Report   \n",
       " 22         Virgil van Dijk     4-3-3     Andy Madley  Match Report   \n",
       " 23            Curtis Jones     4-3-3  Orel Grinfeeld  Match Report   \n",
       " 24         Virgil van Dijk     4-3-3  Michael Oliver  Match Report   \n",
       " 25         Virgil van Dijk     4-3-3    Tim Robinson  Match Report   \n",
       " 26         Virgil van Dijk     4-3-3  Chris Kavanagh  Match Report   \n",
       " 27         Virgil van Dijk     4-3-3    Paul Tierney  Match Report   \n",
       " 28         Virgil van Dijk     4-3-3  Anthony Taylor  Match Report   \n",
       " 29  Trent Alexander-Arnold     4-3-3     John Brooks  Match Report   \n",
       " 30         Virgil van Dijk     4-3-3     David Coote  Match Report   \n",
       " 31                     NaN       NaN             NaN  Head-to-Head   \n",
       " 32                     NaN       NaN             NaN  Head-to-Head   \n",
       " 33                     NaN       NaN             NaN  Head-to-Head   \n",
       " 34                     NaN       NaN             NaN  Head-to-Head   \n",
       " 35                     NaN       NaN             NaN  Head-to-Head   \n",
       " 36                     NaN       NaN             NaN  Head-to-Head   \n",
       " 37                     NaN       NaN             NaN  Head-to-Head   \n",
       " 38                     NaN       NaN             NaN  Head-to-Head   \n",
       " 39                     NaN       NaN             NaN  Head-to-Head   \n",
       " 40                     NaN       NaN             NaN  Head-to-Head   \n",
       " 41                     NaN       NaN             NaN  Head-to-Head   \n",
       " 42                     NaN       NaN             NaN  Head-to-Head   \n",
       " 43                     NaN       NaN             NaN  Head-to-Head   \n",
       " 44                     NaN       NaN             NaN  Head-to-Head   \n",
       " 45                     NaN       NaN             NaN  Head-to-Head   \n",
       " 46                     NaN       NaN             NaN  Head-to-Head   \n",
       " 47                     NaN       NaN             NaN  Head-to-Head   \n",
       " 48                     NaN       NaN             NaN  Head-to-Head   \n",
       " 49                     NaN       NaN             NaN  Head-to-Head   \n",
       " \n",
       "                                Notes  \n",
       " 0                                NaN  \n",
       " 1                                NaN  \n",
       " 2                                NaN  \n",
       " 3                                NaN  \n",
       " 4                                NaN  \n",
       " 5                                NaN  \n",
       " 6                                NaN  \n",
       " 7                                NaN  \n",
       " 8                                NaN  \n",
       " 9                                NaN  \n",
       " 10                               NaN  \n",
       " 11                               NaN  \n",
       " 12                               NaN  \n",
       " 13                               NaN  \n",
       " 14                               NaN  \n",
       " 15                               NaN  \n",
       " 16                               NaN  \n",
       " 17                               NaN  \n",
       " 18                               NaN  \n",
       " 19                               NaN  \n",
       " 20                               NaN  \n",
       " 21                               NaN  \n",
       " 22                               NaN  \n",
       " 23                               NaN  \n",
       " 24                               NaN  \n",
       " 25                               NaN  \n",
       " 26                               NaN  \n",
       " 27                               NaN  \n",
       " 28                               NaN  \n",
       " 29                               NaN  \n",
       " 30                        Leg 1 of 2  \n",
       " 31                               NaN  \n",
       " 32  Leg 2 of 2; Liverpool 2:1 Fulham  \n",
       " 33                               NaN  \n",
       " 34                               NaN  \n",
       " 35                               NaN  \n",
       " 36                               NaN  \n",
       " 37                               NaN  \n",
       " 38                               NaN  \n",
       " 39                               NaN  \n",
       " 40                               NaN  \n",
       " 41                               NaN  \n",
       " 42                               NaN  \n",
       " 43                               NaN  \n",
       " 44                               NaN  \n",
       " 45                               NaN  \n",
       " 46                               NaN  \n",
       " 47                               NaN  \n",
       " 48                               NaN  \n",
       " 49                               NaN  ]"
      ]
     },
     "execution_count": 81,
     "metadata": {},
     "output_type": "execute_result"
    }
   ],
   "source": [
    "matches"
   ]
  },
  {
   "cell_type": "code",
   "execution_count": null,
   "id": "3348f913-3327-462d-9a73-4515b9a687f9",
   "metadata": {},
   "outputs": [],
   "source": []
  }
 ],
 "metadata": {
  "kernelspec": {
   "display_name": "Python 3 (ipykernel)",
   "language": "python",
   "name": "python3"
  },
  "language_info": {
   "codemirror_mode": {
    "name": "ipython",
    "version": 3
   },
   "file_extension": ".py",
   "mimetype": "text/x-python",
   "name": "python",
   "nbconvert_exporter": "python",
   "pygments_lexer": "ipython3",
   "version": "3.11.5"
  }
 },
 "nbformat": 4,
 "nbformat_minor": 5
}
